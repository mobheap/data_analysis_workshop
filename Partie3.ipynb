{
 "cells": [
  {
   "cell_type": "markdown",
   "metadata": {},
   "source": [
    "La ville ayant les totaux de ventes les plus élevés pour les produits de type 'food and beverages' est Naypyitaw. En effet, sa médiane est plus élevée que celle des autres villes, ce qui indique que la majorité des ventes dans cette ville sont plus élevées. De plus, la distribution des ventes de Naypyitaw est globalement supérieure, avec une concentration plus importante de valeurs élevées. Les moustaches du boxplot (représentant les quartiles extrêmes) sont également plus longues, ce qui indique une plus grande variabilité dans les montants des ventes. Enfin, les outliers, ou valeurs aberrantes, sont plus nombreux et se situent à des niveaux de ventes plus élevés, confirmant que Naypyitaw enregistre des ventes exceptionnelles dans cette catégorie de produits."
   ]
  },
  {
   "cell_type": "markdown",
   "metadata": {},
   "source": [
    "Les ventes de Naypyitaw dans les catégories 'Sports and Travel' et 'House and Lifestyle' sont inférieures à celles observées dans les villes de Mandalay et Yangon, ce qui suggère que les habitants de Naypyitaw consacrent moins d'argent à des produits liés au bien-être, aux loisirs et au confort domestique. Par conséquent, Naypyitaw semble avoir un mode de consommation moins axé sur ces catégories. En revanche, ce mode de vie pourrait expliquer des ventes plus élevées dans la catégorie 'Food and Beverages', les habitants de Naypyitaw dépensant davantage pour des produits alimentaires et de consommation courante."
   ]
  }
 ],
 "metadata": {
  "language_info": {
   "name": "python"
  }
 },
 "nbformat": 4,
 "nbformat_minor": 2
}
